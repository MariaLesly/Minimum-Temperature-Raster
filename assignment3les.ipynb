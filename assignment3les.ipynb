{
 "cells": [
  {
   "cell_type": "code",
   "execution_count": 2,
   "id": "b2fcdd7b-48ce-438b-b6e9-47a699983c21",
   "metadata": {},
   "outputs": [
    {
     "name": "stdout",
     "output_type": "stream",
     "text": [
      "Collecting numpy<2.3.0,>=1.21.0 (from -r requirements.txt (line 2))\n",
      "  Using cached numpy-2.2.6-cp311-cp311-win_amd64.whl.metadata (60 kB)\n",
      "Collecting pandas<2.4.0,>=1.5.0 (from -r requirements.txt (line 3))\n",
      "  Using cached pandas-2.3.3-cp311-cp311-win_amd64.whl.metadata (19 kB)\n",
      "Collecting scipy>=1.9.0 (from -r requirements.txt (line 4))\n",
      "  Using cached scipy-1.16.2-cp311-cp311-win_amd64.whl.metadata (60 kB)\n",
      "Collecting geopandas<1.0.0,>=0.12.0 (from -r requirements.txt (line 7))\n",
      "  Using cached geopandas-0.14.4-py3-none-any.whl.metadata (1.5 kB)\n",
      "Collecting shapely<3.0.0,>=2.0.0 (from -r requirements.txt (line 8))\n",
      "  Using cached shapely-2.1.2-cp311-cp311-win_amd64.whl.metadata (7.1 kB)\n",
      "Collecting rasterio<1.4.0,>=1.3.0 (from -r requirements.txt (line 9))\n",
      "  Using cached rasterio-1.3.11-cp311-cp311-win_amd64.whl.metadata (15 kB)\n",
      "Collecting rioxarray<0.20.0,>=0.15.0 (from -r requirements.txt (line 10))\n",
      "  Using cached rioxarray-0.19.0-py3-none-any.whl.metadata (5.5 kB)\n",
      "Collecting rasterstats>=0.19.0 (from -r requirements.txt (line 11))\n",
      "  Using cached rasterstats-0.20.0-py3-none-any.whl.metadata (4.2 kB)\n",
      "Collecting pyproj<3.5.0,>=3.0.0 (from -r requirements.txt (line 12))\n",
      "  Using cached pyproj-3.4.1-cp311-cp311-win_amd64.whl.metadata (28 kB)\n",
      "Note: you may need to restart the kernel to use updated packages.\n"
     ]
    },
    {
     "name": "stderr",
     "output_type": "stream",
     "text": [
      "ERROR: Ignored the following versions that require a different python version: 1.21.2 Requires-Python >=3.7,<3.11; 1.21.3 Requires-Python >=3.7,<3.11; 1.21.4 Requires-Python >=3.7,<3.11; 1.21.5 Requires-Python >=3.7,<3.11; 1.21.6 Requires-Python >=3.7,<3.11; 1.6.2 Requires-Python >=3.7,<3.10; 1.6.3 Requires-Python >=3.7,<3.10; 1.7.0 Requires-Python >=3.7,<3.10; 1.7.1 Requires-Python >=3.7,<3.10; 1.7.2 Requires-Python >=3.7,<3.11; 1.7.3 Requires-Python >=3.7,<3.11; 1.8.0 Requires-Python >=3.8,<3.11; 1.8.0rc1 Requires-Python >=3.8,<3.11; 1.8.0rc2 Requires-Python >=3.8,<3.11; 1.8.0rc3 Requires-Python >=3.8,<3.11; 1.8.0rc4 Requires-Python >=3.8,<3.11; 1.8.1 Requires-Python >=3.8,<3.11\n",
      "ERROR: Could not find a version that satisfies the requirement geowombat==2.1.22 (from versions: none)\n",
      "ERROR: No matching distribution found for geowombat==2.1.22\n"
     ]
    }
   ],
   "source": [
    "pip install -r requirements.txt"
   ]
  },
  {
   "cell_type": "code",
   "execution_count": null,
   "id": "ec16d63f-578a-404f-ba5b-a6ce6423a4a6",
   "metadata": {},
   "outputs": [
    {
     "name": "stdout",
     "output_type": "stream",
     "text": [
      "Requirement already satisfied: pip in c:\\users\\lenovo\\anaconda3\\envs\\temperature\\lib\\site-packages (25.2)\n"
     ]
    }
   ],
   "source": [
    "!pip install --upgrade pip\n",
    "!pip install --force-reinstall geopandas rasterio rioxarray rasterstats shapely pyproj matplotlib pandas numpy folium"
   ]
  },
  {
   "cell_type": "code",
   "execution_count": 3,
   "id": "be5622ad-c73d-447f-a6bf-dfb259486fb6",
   "metadata": {},
   "outputs": [
    {
     "ename": "ModuleNotFoundError",
     "evalue": "No module named 'geopandas'",
     "output_type": "error",
     "traceback": [
      "\u001b[31m---------------------------------------------------------------------------\u001b[39m",
      "\u001b[31mModuleNotFoundError\u001b[39m                       Traceback (most recent call last)",
      "\u001b[36mCell\u001b[39m\u001b[36m \u001b[39m\u001b[32mIn[3]\u001b[39m\u001b[32m, line 1\u001b[39m\n\u001b[32m----> \u001b[39m\u001b[32m1\u001b[39m \u001b[38;5;28;01mimport\u001b[39;00m\u001b[38;5;250m \u001b[39m\u001b[34;01mgeopandas\u001b[39;00m\u001b[38;5;250m \u001b[39m\u001b[38;5;28;01mas\u001b[39;00m\u001b[38;5;250m \u001b[39m\u001b[34;01mgpd\u001b[39;00m\n\u001b[32m      2\u001b[39m \u001b[38;5;28;01mimport\u001b[39;00m\u001b[38;5;250m \u001b[39m\u001b[34;01mrioxarray\u001b[39;00m\n\u001b[32m      3\u001b[39m \u001b[38;5;28;01mimport\u001b[39;00m\u001b[38;5;250m \u001b[39m\u001b[34;01mrasterio\u001b[39;00m\n",
      "\u001b[31mModuleNotFoundError\u001b[39m: No module named 'geopandas'"
     ]
    }
   ],
   "source": [
    "import geopandas as gpd\n",
    "import rioxarray\n",
    "import rasterio\n",
    "from rasterstats import zonal_stats\n",
    "import matplotlib.pyplot as plt\n",
    "import pandas as pd\n",
    "import numpy as np\n",
    "import folium"
   ]
  }
 ],
 "metadata": {
  "kernelspec": {
   "display_name": "Python 3 (ipykernel)",
   "language": "python",
   "name": "python3"
  },
  "language_info": {
   "codemirror_mode": {
    "name": "ipython",
    "version": 3
   },
   "file_extension": ".py",
   "mimetype": "text/x-python",
   "name": "python",
   "nbconvert_exporter": "python",
   "pygments_lexer": "ipython3",
   "version": "3.11.13"
  }
 },
 "nbformat": 4,
 "nbformat_minor": 5
}
